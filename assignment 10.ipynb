{
 "cells": [
  {
   "cell_type": "code",
   "execution_count": 2,
   "id": "10ba6b80",
   "metadata": {},
   "outputs": [
    {
     "name": "stdout",
     "output_type": "stream",
     "text": [
      "3\n"
     ]
    }
   ],
   "source": [
    "#Q1) WAP ask the user count how many 'a' are present in a given string\n",
    "# str1='hai naresh how are you'\n",
    "\n",
    "# Idea: counter wrapper\n",
    "# step-1: count=0\n",
    "# step-2: using for loop in operator iterate through  given string\n",
    "# step-3: apply the if condition, whenever the letter equal to 'a'\n",
    "# step-4: count=count+1\n",
    "str1='hai naresh how are you'\n",
    "count=0\n",
    "for i in range(len(str1)):\n",
    "    if str1[i]=='a':\n",
    "        count=count+1\n",
    "print(count)"
   ]
  },
  {
   "cell_type": "code",
   "execution_count": 3,
   "id": "06d392fa",
   "metadata": {},
   "outputs": [
    {
     "name": "stdout",
     "output_type": "stream",
     "text": [
      "9\n"
     ]
    }
   ],
   "source": [
    "# Q2) WAP ask the find how many vowels are there in a given string\n",
    "# str1='hai naresh how are you'\n",
    "# ans=9\n",
    "str2='hai naresh how are you'\n",
    "count=0\n",
    "for i in range(len(str2)):\n",
    "    if str2[i] in 'aeiou':\n",
    "        count=count+1\n",
    "print(count)"
   ]
  },
  {
   "cell_type": "code",
   "execution_count": 7,
   "id": "d88f1bde",
   "metadata": {},
   "outputs": [
    {
     "name": "stdout",
     "output_type": "stream",
     "text": [
      "5\n"
     ]
    }
   ],
   "source": [
    "# Q3) Home work qn\n",
    "# str1='hai naresh how are you'\n",
    "# Repetaed vowels are there\n",
    "# We dont want repetaed vowels\n",
    "# Count the vowels avoid the repeatition: Unique vowels\n",
    "str3='hai naresh how are you'\n",
    "count=0\n",
    "s=' '\n",
    "for i in range(len(str3)):\n",
    "    if str3[i] not in s:\n",
    "        if str3[i] in 'aeiou':\n",
    "            s=s+str3[i]\n",
    "            count=count+1\n",
    "print(count)"
   ]
  },
  {
   "cell_type": "code",
   "execution_count": 9,
   "id": "d189bb94",
   "metadata": {},
   "outputs": [
    {
     "name": "stdout",
     "output_type": "stream",
     "text": [
      "h\n",
      "a\n",
      "i\n",
      " \n",
      "n\n",
      "a\n",
      "r\n",
      "e\n",
      "s\n",
      "h\n",
      " \n",
      "h\n",
      "o\n",
      "w\n",
      " \n",
      "a\n",
      "r\n",
      "e\n",
      " \n",
      "y\n",
      "o\n",
      "u\n"
     ]
    }
   ],
   "source": [
    "# Q4) print each letter using for loop range\n",
    "str4='hai naresh how are you'\n",
    "for i in range(len(str4)):\n",
    "    print(str4[i])"
   ]
  },
  {
   "cell_type": "code",
   "execution_count": 11,
   "id": "7d0d23f8",
   "metadata": {},
   "outputs": [
    {
     "name": "stdout",
     "output_type": "stream",
     "text": [
      "h positive index is: 0\n",
      "a positive index is: 1\n",
      "i positive index is: 2\n",
      "  positive index is: 3\n",
      "n positive index is: 4\n",
      "a positive index is: 5\n",
      "r positive index is: 6\n",
      "e positive index is: 7\n",
      "s positive index is: 8\n",
      "h positive index is: 9\n",
      "  positive index is: 10\n",
      "h positive index is: 11\n",
      "o positive index is: 12\n",
      "w positive index is: 13\n",
      "  positive index is: 14\n",
      "a positive index is: 15\n",
      "r positive index is: 16\n",
      "e positive index is: 17\n",
      "  positive index is: 18\n",
      "y positive index is: 19\n",
      "o positive index is: 20\n",
      "u positive index is: 21\n"
     ]
    }
   ],
   "source": [
    "# Q5) wap ask the user iterate using a string\n",
    "# string='welcome'\n",
    "# print the postive index of w is 0\n",
    "#       the positive index of e is 1\n",
    "#       the positive index of l is 1\n",
    "str5='hai naresh how are you'\n",
    "for i in range(len(str5)):\n",
    "    print(str5[i],\"positive index is:\", i)"
   ]
  },
  {
   "cell_type": "code",
   "execution_count": 15,
   "id": "70cfd89c",
   "metadata": {},
   "outputs": [
    {
     "name": "stdout",
     "output_type": "stream",
     "text": [
      "h negative index is: -22\n",
      "a negative index is: -21\n",
      "i negative index is: -20\n",
      "  negative index is: -19\n",
      "n negative index is: -18\n",
      "a negative index is: -17\n",
      "r negative index is: -16\n",
      "e negative index is: -15\n",
      "s negative index is: -14\n",
      "h negative index is: -13\n",
      "  negative index is: -12\n",
      "h negative index is: -11\n",
      "o negative index is: -10\n",
      "w negative index is: -9\n",
      "  negative index is: -8\n",
      "a negative index is: -7\n",
      "r negative index is: -6\n",
      "e negative index is: -5\n",
      "  negative index is: -4\n",
      "y negative index is: -3\n",
      "o negative index is: -2\n",
      "u negative index is: -1\n"
     ]
    }
   ],
   "source": [
    "# Q6) wap ask the user iterate using a string\n",
    "# string='welcome'\n",
    "# print the negative index of w is -7\n",
    "#       the negative index of e is -6\n",
    "#       the negative index of l is -5\n",
    "# the positive index is 0 and the negtaive index -7 for w\n",
    "str5='hai naresh how are you'\n",
    "for i in range(len(str5)):\n",
    "    print(str5[i],\"negative index is:\", i-len(str5))"
   ]
  },
  {
   "cell_type": "code",
   "execution_count": 18,
   "id": "b7c5589b",
   "metadata": {},
   "outputs": [
    {
     "name": "stdout",
     "output_type": "stream",
     "text": [
      "w negative index is: -7\n",
      "w positive index is: 0\n",
      "e negative index is: -6\n",
      "e positive index is: 1\n",
      "l negative index is: -5\n",
      "l positive index is: 2\n",
      "c negative index is: -4\n",
      "c positive index is: 3\n",
      "o negative index is: -3\n",
      "o positive index is: 4\n",
      "m negative index is: -2\n",
      "m positive index is: 5\n",
      "e negative index is: -1\n",
      "e positive index is: 6\n"
     ]
    }
   ],
   "source": [
    "# Q7) wap ask the user iterate using a string\n",
    "# string='welcome'\n",
    "# # the positive index is 0 and the negtaive index -7 for w\n",
    "str5='welcome'\n",
    "for i in range(len(str5)):\n",
    "    print(str5[i],\"negative index is:\", i-len(str5))\n",
    "    print(str5[i],\"positive index is:\", i)"
   ]
  },
  {
   "cell_type": "code",
   "execution_count": 17,
   "id": "0fb32786",
   "metadata": {},
   "outputs": [
    {
     "name": "stdout",
     "output_type": "stream",
     "text": [
      "the index of a is 1\n",
      "the index of a is 8\n",
      "the index of a is 18\n"
     ]
    }
   ],
   "source": [
    "#Q8) wap ask the user get the index of each 'a' in a given string\n",
    "# s='hai how are you i am good'\n",
    "# a=1  8  18\n",
    "s='hai how are you i am good'\n",
    "\n",
    "for i in range(len(s)):\n",
    "    if s[i]=='a':\n",
    "        print(f\"the index of {s[i]} is {i}\")"
   ]
  },
  {
   "cell_type": "code",
   "execution_count": 20,
   "id": "05a93a58",
   "metadata": {},
   "outputs": [
    {
     "name": "stdout",
     "output_type": "stream",
     "text": [
      "count of 'a': 3\n"
     ]
    }
   ],
   "source": [
    "#Q9) wap ask the user to get count of number of 'a' in a given string\n",
    "#     using for-range\n",
    "s='hai how are you i am good'\n",
    "count=0\n",
    "for i in range(len(s)):\n",
    "    if s[i]=='a':\n",
    "        count=count+1\n",
    "print(\"count of 'a':\",count)"
   ]
  },
  {
   "cell_type": "code",
   "execution_count": 21,
   "id": "46e51742",
   "metadata": {},
   "outputs": [
    {
     "name": "stdout",
     "output_type": "stream",
     "text": [
      "sum of indexes of' a' :  27\n"
     ]
    }
   ],
   "source": [
    "#Q10) wap ask the user get the sum of all index numbers of 'a'\n",
    "# 1+8+18= 27\n",
    "s='hai how are you i am good'\n",
    "sunn=0\n",
    "for i in range(len(s)):\n",
    "    if s[i]=='a':\n",
    "        sunn=sunn+i\n",
    "print(\"sum of indexes of' a' : \", sunn)"
   ]
  },
  {
   "cell_type": "code",
   "execution_count": 22,
   "id": "e1988a78",
   "metadata": {},
   "outputs": [
    {
     "name": "stdout",
     "output_type": "stream",
     "text": [
      "a\n",
      "i\n",
      "o\n",
      "a\n",
      "e\n",
      "o\n",
      "u\n",
      "i\n",
      "a\n",
      "o\n",
      "o\n"
     ]
    }
   ],
   "source": [
    "#Q11) wap ask the user get the vowels from a given string using for-range\n",
    "\n",
    "s='hai how are you i am good'\n",
    "for i in range(len(s)):\n",
    "    if s[i] in 'aeiou':\n",
    "        print(s[i])"
   ]
  },
  {
   "cell_type": "code",
   "execution_count": 24,
   "id": "8021d961",
   "metadata": {},
   "outputs": [
    {
     "name": "stdout",
     "output_type": "stream",
     "text": [
      "a\n",
      "i\n",
      "o\n",
      "a\n",
      "e\n",
      "o\n",
      "u\n",
      "i\n",
      "a\n",
      "o\n",
      "o\n"
     ]
    }
   ],
   "source": [
    "#Q12) wap ask the user get the vowels from a given string using for-range\n",
    "s='hai how are you i am good'\n",
    "for i in range(len(s)):\n",
    "    if s[i] in 'aeiou':\n",
    "        print(s[i])"
   ]
  },
  {
   "cell_type": "code",
   "execution_count": 25,
   "id": "d2297d32",
   "metadata": {},
   "outputs": [
    {
     "name": "stdout",
     "output_type": "stream",
     "text": [
      "a\n",
      "i\n",
      "o\n",
      "a\n",
      "e\n",
      "o\n",
      "u\n",
      "i\n",
      "a\n",
      "o\n",
      "o\n"
     ]
    }
   ],
   "source": [
    "#Q13)updated wap ask the user get the vowels from a given string using for-range\n",
    "s='hai how are you i am good'\n",
    "for i in range(len(s)):\n",
    "    if s[i] in 'aeiou':\n",
    "        print(s[i])"
   ]
  },
  {
   "cell_type": "code",
   "execution_count": null,
   "id": "f31813d2",
   "metadata": {},
   "outputs": [],
   "source": []
  }
 ],
 "metadata": {
  "kernelspec": {
   "display_name": "Python 3 (ipykernel)",
   "language": "python",
   "name": "python3"
  },
  "language_info": {
   "codemirror_mode": {
    "name": "ipython",
    "version": 3
   },
   "file_extension": ".py",
   "mimetype": "text/x-python",
   "name": "python",
   "nbconvert_exporter": "python",
   "pygments_lexer": "ipython3",
   "version": "3.9.13"
  }
 },
 "nbformat": 4,
 "nbformat_minor": 5
}

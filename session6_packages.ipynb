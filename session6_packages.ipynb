{
 "cells": [
  {
   "cell_type": "markdown",
   "id": "e8b0c1f7",
   "metadata": {},
   "source": [
    "# packages"
   ]
  },
  {
   "cell_type": "markdown",
   "id": "6531aefe",
   "metadata": {},
   "source": [
    "- let assume that our friend coder is there\n",
    "- he created an addition program\n",
    "- he feels that he only created addition program\n",
    "- he wants to give this program to everyone====package\n",
    "- he wents to anaconda organization\n",
    "- he makes a deal\n",
    "- who ever installed anaconda my package also downloaded\n",
    "- thats why when you are downloading anaconda a green color pop is comes, means so many packages are tie with anaconda downloading in your own laptop"
   ]
  },
  {
   "cell_type": "markdown",
   "id": "a972ff29",
   "metadata": {},
   "source": [
    "- package is there in your laptop\n",
    "- you want to use for the coding\n",
    "- the package name: addition"
   ]
  },
  {
   "cell_type": "markdown",
   "id": "02fd6d8d",
   "metadata": {},
   "source": [
    "# import"
   ]
  },
  {
   "cell_type": "code",
   "execution_count": 1,
   "id": "3601be16",
   "metadata": {},
   "outputs": [],
   "source": [
    "#syntax\n",
    "#import <package_name>"
   ]
  },
  {
   "cell_type": "code",
   "execution_count": 2,
   "id": "8d4686cd",
   "metadata": {},
   "outputs": [],
   "source": [
    "#package_name random\n",
    "import random"
   ]
  },
  {
   "cell_type": "code",
   "execution_count": 3,
   "id": "6e3f2fb1",
   "metadata": {},
   "outputs": [],
   "source": [
    "#package_name time\n",
    "import time"
   ]
  },
  {
   "cell_type": "code",
   "execution_count": 11,
   "id": "c29a6474",
   "metadata": {},
   "outputs": [],
   "source": [
    "#package_name math\n",
    "import math"
   ]
  },
  {
   "cell_type": "code",
   "execution_count": 12,
   "id": "2e246fb7",
   "metadata": {},
   "outputs": [
    {
     "ename": "ModuleNotFoundError",
     "evalue": "No module named 'streamlit'",
     "output_type": "error",
     "traceback": [
      "\u001b[1;31m---------------------------------------------------------------------------\u001b[0m",
      "\u001b[1;31mModuleNotFoundError\u001b[0m                       Traceback (most recent call last)",
      "\u001b[1;32m~\\AppData\\Local\\Temp\\ipykernel_11956\\3994747690.py\u001b[0m in \u001b[0;36m<module>\u001b[1;34m\u001b[0m\n\u001b[0;32m      1\u001b[0m \u001b[1;31m#package_name streamlit\u001b[0m\u001b[1;33m\u001b[0m\u001b[1;33m\u001b[0m\u001b[0m\n\u001b[1;32m----> 2\u001b[1;33m \u001b[1;32mimport\u001b[0m \u001b[0mstreamlit\u001b[0m\u001b[1;33m\u001b[0m\u001b[1;33m\u001b[0m\u001b[0m\n\u001b[0m",
      "\u001b[1;31mModuleNotFoundError\u001b[0m: No module named 'streamlit'"
     ]
    }
   ],
   "source": [
    "#package_name streamlit\n",
    "import streamlit"
   ]
  },
  {
   "cell_type": "code",
   "execution_count": 13,
   "id": "4bd7a5af",
   "metadata": {},
   "outputs": [],
   "source": [
    "#module not found\n",
    "#moudle and package is same"
   ]
  },
  {
   "cell_type": "code",
   "execution_count": 14,
   "id": "4405a8d3",
   "metadata": {},
   "outputs": [],
   "source": [
    "#package name cv2\n",
    "import cv2"
   ]
  },
  {
   "cell_type": "markdown",
   "id": "baf53117",
   "metadata": {},
   "source": [
    "cv2 guy not tie with anaconda\n",
    "no module name: cv2\n",
    "    \n",
    "straemlit guy not tie with anaconda\n",
    "no module name: straemlit\n",
    "    "
   ]
  },
  {
   "cell_type": "code",
   "execution_count": null,
   "id": "3ae74ad9",
   "metadata": {},
   "outputs": [],
   "source": [
    "math operations\n",
    "addition\n",
    "subtraction\n",
    "multiplication\n",
    "division"
   ]
  },
  {
   "cell_type": "code",
   "execution_count": 16,
   "id": "15db8bef",
   "metadata": {},
   "outputs": [
    {
     "data": {
      "text/plain": [
       "['BPF',\n",
       " 'LOG4',\n",
       " 'NV_MAGICCONST',\n",
       " 'RECIP_BPF',\n",
       " 'Random',\n",
       " 'SG_MAGICCONST',\n",
       " 'SystemRandom',\n",
       " 'TWOPI',\n",
       " '_Sequence',\n",
       " '_Set',\n",
       " '__all__',\n",
       " '__builtins__',\n",
       " '__cached__',\n",
       " '__doc__',\n",
       " '__file__',\n",
       " '__loader__',\n",
       " '__name__',\n",
       " '__package__',\n",
       " '__spec__',\n",
       " '_accumulate',\n",
       " '_acos',\n",
       " '_bisect',\n",
       " '_ceil',\n",
       " '_cos',\n",
       " '_e',\n",
       " '_exp',\n",
       " '_floor',\n",
       " '_inst',\n",
       " '_log',\n",
       " '_os',\n",
       " '_pi',\n",
       " '_random',\n",
       " '_repeat',\n",
       " '_sha512',\n",
       " '_sin',\n",
       " '_sqrt',\n",
       " '_test',\n",
       " '_test_generator',\n",
       " '_urandom',\n",
       " '_warn',\n",
       " 'betavariate',\n",
       " 'choice',\n",
       " 'choices',\n",
       " 'expovariate',\n",
       " 'gammavariate',\n",
       " 'gauss',\n",
       " 'getrandbits',\n",
       " 'getstate',\n",
       " 'lognormvariate',\n",
       " 'normalvariate',\n",
       " 'paretovariate',\n",
       " 'randbytes',\n",
       " 'randint',\n",
       " 'random',\n",
       " 'randrange',\n",
       " 'sample',\n",
       " 'seed',\n",
       " 'setstate',\n",
       " 'shuffle',\n",
       " 'triangular',\n",
       " 'uniform',\n",
       " 'vonmisesvariate',\n",
       " 'weibullvariate']"
      ]
     },
     "execution_count": 16,
     "metadata": {},
     "output_type": "execute_result"
    }
   ],
   "source": [
    "import random\n",
    "dir(random)"
   ]
  },
  {
   "cell_type": "code",
   "execution_count": 17,
   "id": "d74fad63",
   "metadata": {},
   "outputs": [],
   "source": [
    "#syntax\n",
    "#<package_name>.<method_name>\n",
    "#packagename: random\n",
    "#methodname: randint"
   ]
  },
  {
   "cell_type": "code",
   "execution_count": 18,
   "id": "ca549e38",
   "metadata": {},
   "outputs": [
    {
     "name": "stdout",
     "output_type": "stream",
     "text": [
      "Help on method randint in module random:\n",
      "\n",
      "randint(a, b) method of random.Random instance\n",
      "    Return random integer in range [a, b], including both end points.\n",
      "\n"
     ]
    }
   ],
   "source": [
    "#help(<package_name>.<method_name>)\n",
    "#help will give the understanding of \n",
    "#how a method will work\n",
    "#here i want to know what randintwill do?\n",
    "help(random.randint)"
   ]
  },
  {
   "cell_type": "code",
   "execution_count": 22,
   "id": "5f58b39f",
   "metadata": {},
   "outputs": [
    {
     "data": {
      "text/plain": [
       "10"
      ]
     },
     "execution_count": 22,
     "metadata": {},
     "output_type": "execute_result"
    }
   ],
   "source": [
    "random.randint(1,10)"
   ]
  },
  {
   "cell_type": "code",
   "execution_count": 23,
   "id": "b784cec6",
   "metadata": {},
   "outputs": [],
   "source": [
    "# step-1: import <package_name>\n",
    "# step-2: dir(<pacakge_name>)\n",
    "# step-3: help(<pacakge_name>.<method_name>)\n",
    "# package_name: random\n",
    "import random"
   ]
  },
  {
   "cell_type": "code",
   "execution_count": 24,
   "id": "ccdbef26",
   "metadata": {},
   "outputs": [
    {
     "data": {
      "text/plain": [
       "['BPF',\n",
       " 'LOG4',\n",
       " 'NV_MAGICCONST',\n",
       " 'RECIP_BPF',\n",
       " 'Random',\n",
       " 'SG_MAGICCONST',\n",
       " 'SystemRandom',\n",
       " 'TWOPI',\n",
       " '_Sequence',\n",
       " '_Set',\n",
       " '__all__',\n",
       " '__builtins__',\n",
       " '__cached__',\n",
       " '__doc__',\n",
       " '__file__',\n",
       " '__loader__',\n",
       " '__name__',\n",
       " '__package__',\n",
       " '__spec__',\n",
       " '_accumulate',\n",
       " '_acos',\n",
       " '_bisect',\n",
       " '_ceil',\n",
       " '_cos',\n",
       " '_e',\n",
       " '_exp',\n",
       " '_floor',\n",
       " '_inst',\n",
       " '_log',\n",
       " '_os',\n",
       " '_pi',\n",
       " '_random',\n",
       " '_repeat',\n",
       " '_sha512',\n",
       " '_sin',\n",
       " '_sqrt',\n",
       " '_test',\n",
       " '_test_generator',\n",
       " '_urandom',\n",
       " '_warn',\n",
       " 'betavariate',\n",
       " 'choice',\n",
       " 'choices',\n",
       " 'expovariate',\n",
       " 'gammavariate',\n",
       " 'gauss',\n",
       " 'getrandbits',\n",
       " 'getstate',\n",
       " 'lognormvariate',\n",
       " 'normalvariate',\n",
       " 'paretovariate',\n",
       " 'randbytes',\n",
       " 'randint',\n",
       " 'random',\n",
       " 'randrange',\n",
       " 'sample',\n",
       " 'seed',\n",
       " 'setstate',\n",
       " 'shuffle',\n",
       " 'triangular',\n",
       " 'uniform',\n",
       " 'vonmisesvariate',\n",
       " 'weibullvariate']"
      ]
     },
     "execution_count": 24,
     "metadata": {},
     "output_type": "execute_result"
    }
   ],
   "source": [
    "dir(random)"
   ]
  },
  {
   "cell_type": "code",
   "execution_count": 25,
   "id": "375c88de",
   "metadata": {},
   "outputs": [
    {
     "name": "stdout",
     "output_type": "stream",
     "text": [
      "Help on method randint in module random:\n",
      "\n",
      "randint(a, b) method of random.Random instance\n",
      "    Return random integer in range [a, b], including both end points.\n",
      "\n"
     ]
    }
   ],
   "source": [
    "help(random.randint)"
   ]
  },
  {
   "cell_type": "code",
   "execution_count": 29,
   "id": "5a0760a9",
   "metadata": {},
   "outputs": [
    {
     "data": {
      "text/plain": [
       "12"
      ]
     },
     "execution_count": 29,
     "metadata": {},
     "output_type": "execute_result"
    }
   ],
   "source": [
    "random.randint(1,12)"
   ]
  },
  {
   "cell_type": "code",
   "execution_count": 30,
   "id": "a53519af",
   "metadata": {},
   "outputs": [
    {
     "name": "stdout",
     "output_type": "stream",
     "text": [
      "Help on built-in function random:\n",
      "\n",
      "random() method of random.Random instance\n",
      "    random() -> x in the interval [0, 1).\n",
      "\n"
     ]
    }
   ],
   "source": [
    "#package name: random\n",
    "#method name: random\n",
    "import random\n",
    "dir(random)\n",
    "help(random.random)"
   ]
  },
  {
   "cell_type": "code",
   "execution_count": 48,
   "id": "01a1f339",
   "metadata": {},
   "outputs": [
    {
     "data": {
      "text/plain": [
       "0.1557484376027911"
      ]
     },
     "execution_count": 48,
     "metadata": {},
     "output_type": "execute_result"
    }
   ],
   "source": [
    "random.random()"
   ]
  },
  {
   "cell_type": "markdown",
   "id": "fcb7ce1e",
   "metadata": {},
   "source": [
    "# package name:math"
   ]
  },
  {
   "cell_type": "markdown",
   "id": "c7609f02",
   "metadata": {},
   "source": [
    "# method pi"
   ]
  },
  {
   "cell_type": "markdown",
   "id": "6a1643e8",
   "metadata": {},
   "source": [
    "# sqrt"
   ]
  },
  {
   "cell_type": "markdown",
   "id": "2490df70",
   "metadata": {},
   "source": [
    "# sin"
   ]
  },
  {
   "cell_type": "code",
   "execution_count": 49,
   "id": "84d2c2d4",
   "metadata": {},
   "outputs": [],
   "source": [
    "import math"
   ]
  },
  {
   "cell_type": "code",
   "execution_count": 50,
   "id": "32d49cdb",
   "metadata": {},
   "outputs": [
    {
     "data": {
      "text/plain": [
       "['__doc__',\n",
       " '__loader__',\n",
       " '__name__',\n",
       " '__package__',\n",
       " '__spec__',\n",
       " 'acos',\n",
       " 'acosh',\n",
       " 'asin',\n",
       " 'asinh',\n",
       " 'atan',\n",
       " 'atan2',\n",
       " 'atanh',\n",
       " 'ceil',\n",
       " 'comb',\n",
       " 'copysign',\n",
       " 'cos',\n",
       " 'cosh',\n",
       " 'degrees',\n",
       " 'dist',\n",
       " 'e',\n",
       " 'erf',\n",
       " 'erfc',\n",
       " 'exp',\n",
       " 'expm1',\n",
       " 'fabs',\n",
       " 'factorial',\n",
       " 'floor',\n",
       " 'fmod',\n",
       " 'frexp',\n",
       " 'fsum',\n",
       " 'gamma',\n",
       " 'gcd',\n",
       " 'hypot',\n",
       " 'inf',\n",
       " 'isclose',\n",
       " 'isfinite',\n",
       " 'isinf',\n",
       " 'isnan',\n",
       " 'isqrt',\n",
       " 'lcm',\n",
       " 'ldexp',\n",
       " 'lgamma',\n",
       " 'log',\n",
       " 'log10',\n",
       " 'log1p',\n",
       " 'log2',\n",
       " 'modf',\n",
       " 'nan',\n",
       " 'nextafter',\n",
       " 'perm',\n",
       " 'pi',\n",
       " 'pow',\n",
       " 'prod',\n",
       " 'radians',\n",
       " 'remainder',\n",
       " 'sin',\n",
       " 'sinh',\n",
       " 'sqrt',\n",
       " 'tan',\n",
       " 'tanh',\n",
       " 'tau',\n",
       " 'trunc',\n",
       " 'ulp']"
      ]
     },
     "execution_count": 50,
     "metadata": {},
     "output_type": "execute_result"
    }
   ],
   "source": [
    "dir(math)"
   ]
  },
  {
   "cell_type": "code",
   "execution_count": 51,
   "id": "f60fc3d0",
   "metadata": {},
   "outputs": [
    {
     "name": "stdout",
     "output_type": "stream",
     "text": [
      "Help on built-in function sqrt in module math:\n",
      "\n",
      "sqrt(x, /)\n",
      "    Return the square root of x.\n",
      "\n"
     ]
    }
   ],
   "source": [
    "#pi\n",
    "#pow\n",
    "#sqrt\n",
    "#sin\n",
    "help(math.sqrt)"
   ]
  },
  {
   "cell_type": "code",
   "execution_count": 52,
   "id": "5d237c69",
   "metadata": {},
   "outputs": [
    {
     "data": {
      "text/plain": [
       "5.0"
      ]
     },
     "execution_count": 52,
     "metadata": {},
     "output_type": "execute_result"
    }
   ],
   "source": [
    "math.sqrt(25)"
   ]
  },
  {
   "cell_type": "code",
   "execution_count": 53,
   "id": "2165f2d8",
   "metadata": {},
   "outputs": [
    {
     "name": "stdout",
     "output_type": "stream",
     "text": [
      "Help on built-in function pow in module math:\n",
      "\n",
      "pow(x, y, /)\n",
      "    Return x**y (x to the power of y).\n",
      "\n"
     ]
    }
   ],
   "source": [
    "help(math.pow)"
   ]
  },
  {
   "cell_type": "code",
   "execution_count": 54,
   "id": "ee99d4d0",
   "metadata": {},
   "outputs": [
    {
     "data": {
      "text/plain": [
       "8.0"
      ]
     },
     "execution_count": 54,
     "metadata": {},
     "output_type": "execute_result"
    }
   ],
   "source": [
    "math.pow(2,3)\n"
   ]
  },
  {
   "cell_type": "code",
   "execution_count": 55,
   "id": "0d08d5c3",
   "metadata": {},
   "outputs": [
    {
     "name": "stdout",
     "output_type": "stream",
     "text": [
      "Help on built-in function sin in module math:\n",
      "\n",
      "sin(x, /)\n",
      "    Return the sine of x (measured in radians).\n",
      "\n"
     ]
    }
   ],
   "source": [
    "help(math.sin)\n"
   ]
  },
  {
   "cell_type": "code",
   "execution_count": 57,
   "id": "0ee070f2",
   "metadata": {},
   "outputs": [
    {
     "data": {
      "text/plain": [
       "0.8939966636005579"
      ]
     },
     "execution_count": 57,
     "metadata": {},
     "output_type": "execute_result"
    }
   ],
   "source": [
    "math.sin(90)\n"
   ]
  },
  {
   "cell_type": "code",
   "execution_count": 58,
   "id": "79305792",
   "metadata": {},
   "outputs": [
    {
     "data": {
      "text/plain": [
       "0.8939966636005579"
      ]
     },
     "execution_count": 58,
     "metadata": {},
     "output_type": "execute_result"
    }
   ],
   "source": [
    "math.sqrt(25)\n",
    "math.pow(2,3)\n",
    "math.sin(90)"
   ]
  },
  {
   "cell_type": "code",
   "execution_count": 60,
   "id": "795fe216",
   "metadata": {},
   "outputs": [
    {
     "ename": "TypeError",
     "evalue": "math.sqrt() takes no keyword arguments",
     "output_type": "error",
     "traceback": [
      "\u001b[1;31m---------------------------------------------------------------------------\u001b[0m",
      "\u001b[1;31mTypeError\u001b[0m                                 Traceback (most recent call last)",
      "\u001b[1;32m~\\AppData\\Local\\Temp\\ipykernel_11956\\3837933843.py\u001b[0m in \u001b[0;36m<module>\u001b[1;34m\u001b[0m\n\u001b[1;32m----> 1\u001b[1;33m \u001b[0mmath\u001b[0m\u001b[1;33m.\u001b[0m\u001b[0msqrt\u001b[0m\u001b[1;33m(\u001b[0m\u001b[0mx\u001b[0m\u001b[1;33m=\u001b[0m\u001b[1;36m25\u001b[0m\u001b[1;33m)\u001b[0m\u001b[1;33m\u001b[0m\u001b[1;33m\u001b[0m\u001b[0m\n\u001b[0m\u001b[0;32m      2\u001b[0m \u001b[1;31m# curosr inside the bracker\u001b[0m\u001b[1;33m\u001b[0m\u001b[1;33m\u001b[0m\u001b[0m\n\u001b[0;32m      3\u001b[0m \u001b[1;31m# then apply shift+tab\u001b[0m\u001b[1;33m\u001b[0m\u001b[1;33m\u001b[0m\u001b[0m\n\u001b[0;32m      4\u001b[0m \u001b[1;31m# / is mentioned means\u001b[0m\u001b[1;33m\u001b[0m\u001b[1;33m\u001b[0m\u001b[0m\n\u001b[0;32m      5\u001b[0m \u001b[1;31m# do not provide x=25 values\u001b[0m\u001b[1;33m\u001b[0m\u001b[1;33m\u001b[0m\u001b[0m\n",
      "\u001b[1;31mTypeError\u001b[0m: math.sqrt() takes no keyword arguments"
     ]
    }
   ],
   "source": [
    "math.sqrt(x=25)\n",
    "# curosr inside the bracker\n",
    "# then apply shift+tab\n",
    "# / is mentioned means \n",
    "# do not provide x=25 values\n",
    "# directly give 25"
   ]
  },
  {
   "cell_type": "code",
   "execution_count": 61,
   "id": "e07e0080",
   "metadata": {},
   "outputs": [
    {
     "data": {
      "text/plain": [
       "<function math.sqrt(x, /)>"
      ]
     },
     "execution_count": 61,
     "metadata": {},
     "output_type": "execute_result"
    }
   ],
   "source": [
    "math.sqrt"
   ]
  },
  {
   "cell_type": "markdown",
   "id": "177b083e",
   "metadata": {},
   "source": [
    "- function means we are forgetting brackets\n",
    "- we need to keep brackets\n",
    "- bound method also means forgetting the brackets only\n",
    "- not callable means remove bracket\n",
    "- whenever you see slash don't provide variable name\n",
    "- directly give the value\n"
   ]
  },
  {
   "cell_type": "code",
   "execution_count": 62,
   "id": "9be27c7f",
   "metadata": {},
   "outputs": [
    {
     "data": {
      "text/plain": [
       "5.0"
      ]
     },
     "execution_count": 62,
     "metadata": {},
     "output_type": "execute_result"
    }
   ],
   "source": [
    "math.sqrt(25)"
   ]
  },
  {
   "cell_type": "code",
   "execution_count": 63,
   "id": "a0097440",
   "metadata": {},
   "outputs": [
    {
     "data": {
      "text/plain": [
       "11"
      ]
     },
     "execution_count": 63,
     "metadata": {},
     "output_type": "execute_result"
    }
   ],
   "source": [
    "random.randint(10,20)"
   ]
  },
  {
   "cell_type": "code",
   "execution_count": 64,
   "id": "0408c3c7",
   "metadata": {},
   "outputs": [
    {
     "data": {
      "text/plain": [
       "0.3461326418877876"
      ]
     },
     "execution_count": 64,
     "metadata": {},
     "output_type": "execute_result"
    }
   ],
   "source": [
    "random.random()"
   ]
  },
  {
   "cell_type": "code",
   "execution_count": 66,
   "id": "ba6cbd46",
   "metadata": {},
   "outputs": [
    {
     "data": {
      "text/plain": [
       "['BPF',\n",
       " 'LOG4',\n",
       " 'NV_MAGICCONST',\n",
       " 'RECIP_BPF',\n",
       " 'Random',\n",
       " 'SG_MAGICCONST',\n",
       " 'SystemRandom',\n",
       " 'TWOPI',\n",
       " '_Sequence',\n",
       " '_Set',\n",
       " '__all__',\n",
       " '__builtins__',\n",
       " '__cached__',\n",
       " '__doc__',\n",
       " '__file__',\n",
       " '__loader__',\n",
       " '__name__',\n",
       " '__package__',\n",
       " '__spec__',\n",
       " '_accumulate',\n",
       " '_acos',\n",
       " '_bisect',\n",
       " '_ceil',\n",
       " '_cos',\n",
       " '_e',\n",
       " '_exp',\n",
       " '_floor',\n",
       " '_inst',\n",
       " '_log',\n",
       " '_os',\n",
       " '_pi',\n",
       " '_random',\n",
       " '_repeat',\n",
       " '_sha512',\n",
       " '_sin',\n",
       " '_sqrt',\n",
       " '_test',\n",
       " '_test_generator',\n",
       " '_urandom',\n",
       " '_warn',\n",
       " 'betavariate',\n",
       " 'choice',\n",
       " 'choices',\n",
       " 'expovariate',\n",
       " 'gammavariate',\n",
       " 'gauss',\n",
       " 'getrandbits',\n",
       " 'getstate',\n",
       " 'lognormvariate',\n",
       " 'normalvariate',\n",
       " 'paretovariate',\n",
       " 'randbytes',\n",
       " 'randint',\n",
       " 'random',\n",
       " 'randrange',\n",
       " 'sample',\n",
       " 'seed',\n",
       " 'setstate',\n",
       " 'shuffle',\n",
       " 'triangular',\n",
       " 'uniform',\n",
       " 'vonmisesvariate',\n",
       " 'weibullvariate']"
      ]
     },
     "execution_count": 66,
     "metadata": {},
     "output_type": "execute_result"
    }
   ],
   "source": [
    "dir(random)"
   ]
  },
  {
   "cell_type": "code",
   "execution_count": 67,
   "id": "9a2586ac",
   "metadata": {},
   "outputs": [
    {
     "data": {
      "text/plain": [
       "3.141592653589793"
      ]
     },
     "execution_count": 67,
     "metadata": {},
     "output_type": "execute_result"
    }
   ],
   "source": [
    "math.pi\n",
    "#direct values never include brackets"
   ]
  },
  {
   "cell_type": "code",
   "execution_count": 68,
   "id": "a239b1ce",
   "metadata": {},
   "outputs": [],
   "source": [
    "# package name: keyword\n",
    "# method name: kwlist\n",
    "import keyword"
   ]
  },
  {
   "cell_type": "code",
   "execution_count": 69,
   "id": "7790fb5b",
   "metadata": {},
   "outputs": [
    {
     "data": {
      "text/plain": [
       "36"
      ]
     },
     "execution_count": 69,
     "metadata": {},
     "output_type": "execute_result"
    }
   ],
   "source": [
    "len(keyword.kwlist)"
   ]
  },
  {
   "cell_type": "code",
   "execution_count": 70,
   "id": "f393bc0e",
   "metadata": {},
   "outputs": [],
   "source": [
    "# step-1: \n",
    "# import <package_name>\n",
    "# step-2:\n",
    "# dir(<package_name>)\n",
    "# methods will display\n",
    "# step-3:\n",
    "# help(<package_name>.<method_name>)\n",
    "# step-4:\n",
    "# <package_name>.<method_name>() # 99%\n"
   ]
  },
  {
   "cell_type": "code",
   "execution_count": 71,
   "id": "75985bbd",
   "metadata": {},
   "outputs": [],
   "source": [
    "import random\n"
   ]
  },
  {
   "cell_type": "code",
   "execution_count": 72,
   "id": "d6b33328",
   "metadata": {},
   "outputs": [
    {
     "data": {
      "text/plain": [
       "['BPF',\n",
       " 'LOG4',\n",
       " 'NV_MAGICCONST',\n",
       " 'RECIP_BPF',\n",
       " 'Random',\n",
       " 'SG_MAGICCONST',\n",
       " 'SystemRandom',\n",
       " 'TWOPI',\n",
       " '_Sequence',\n",
       " '_Set',\n",
       " '__all__',\n",
       " '__builtins__',\n",
       " '__cached__',\n",
       " '__doc__',\n",
       " '__file__',\n",
       " '__loader__',\n",
       " '__name__',\n",
       " '__package__',\n",
       " '__spec__',\n",
       " '_accumulate',\n",
       " '_acos',\n",
       " '_bisect',\n",
       " '_ceil',\n",
       " '_cos',\n",
       " '_e',\n",
       " '_exp',\n",
       " '_floor',\n",
       " '_inst',\n",
       " '_log',\n",
       " '_os',\n",
       " '_pi',\n",
       " '_random',\n",
       " '_repeat',\n",
       " '_sha512',\n",
       " '_sin',\n",
       " '_sqrt',\n",
       " '_test',\n",
       " '_test_generator',\n",
       " '_urandom',\n",
       " '_warn',\n",
       " 'betavariate',\n",
       " 'choice',\n",
       " 'choices',\n",
       " 'expovariate',\n",
       " 'gammavariate',\n",
       " 'gauss',\n",
       " 'getrandbits',\n",
       " 'getstate',\n",
       " 'lognormvariate',\n",
       " 'normalvariate',\n",
       " 'paretovariate',\n",
       " 'randbytes',\n",
       " 'randint',\n",
       " 'random',\n",
       " 'randrange',\n",
       " 'sample',\n",
       " 'seed',\n",
       " 'setstate',\n",
       " 'shuffle',\n",
       " 'triangular',\n",
       " 'uniform',\n",
       " 'vonmisesvariate',\n",
       " 'weibullvariate']"
      ]
     },
     "execution_count": 72,
     "metadata": {},
     "output_type": "execute_result"
    }
   ],
   "source": [
    "dir(random)"
   ]
  },
  {
   "cell_type": "code",
   "execution_count": 73,
   "id": "49d943b7",
   "metadata": {},
   "outputs": [
    {
     "name": "stdout",
     "output_type": "stream",
     "text": [
      "Help on method randint in module random:\n",
      "\n",
      "randint(a, b) method of random.Random instance\n",
      "    Return random integer in range [a, b], including both end points.\n",
      "\n"
     ]
    }
   ],
   "source": [
    "help(random.randint)"
   ]
  },
  {
   "cell_type": "code",
   "execution_count": 74,
   "id": "900a5e69",
   "metadata": {},
   "outputs": [
    {
     "data": {
      "text/plain": [
       "18"
      ]
     },
     "execution_count": 74,
     "metadata": {},
     "output_type": "execute_result"
    }
   ],
   "source": [
    "random.randint(10,20)"
   ]
  },
  {
   "cell_type": "code",
   "execution_count": 75,
   "id": "570eae91",
   "metadata": {},
   "outputs": [],
   "source": [
    "import math\n"
   ]
  },
  {
   "cell_type": "code",
   "execution_count": 76,
   "id": "95f1d1fc",
   "metadata": {},
   "outputs": [
    {
     "data": {
      "text/plain": [
       "3.141592653589793"
      ]
     },
     "execution_count": 76,
     "metadata": {},
     "output_type": "execute_result"
    }
   ],
   "source": [
    "math.pi"
   ]
  },
  {
   "cell_type": "markdown",
   "id": "355c8766",
   "metadata": {},
   "source": [
    "- () : function or methods\n",
    "- only functions or methods callable\n",
    "- if something says not callable means , it is not a function\n",
    "- it is not a function means, you need to remove bracket\n",
    "- bound method means ==== add the brackets\n",
    "- function ======= add the brackets\n",
    "- not callable ==== remove the brackets\n",
    "- random\n",
    "- math\n",
    "- keyword"
   ]
  },
  {
   "cell_type": "markdown",
   "id": "2a5c2fab",
   "metadata": {},
   "source": [
    "# time"
   ]
  },
  {
   "cell_type": "code",
   "execution_count": 79,
   "id": "1f68676b",
   "metadata": {},
   "outputs": [
    {
     "name": "stdout",
     "output_type": "stream",
     "text": [
      "Father:hello\n",
      "D: hai papa how are you\n",
      "Father:do you have school today\n"
     ]
    }
   ],
   "source": [
    "import time\n",
    "print(\"Father:hello\")\n",
    "time.sleep(1)\n",
    "print(\"D: hai papa how are you\")\n",
    "time.sleep(1)\n",
    "print(\"Father:do you have school today\")"
   ]
  },
  {
   "cell_type": "code",
   "execution_count": null,
   "id": "0a4a46f6",
   "metadata": {},
   "outputs": [],
   "source": [
    "Computer vision is used to image operations\n",
    "video operations \n",
    "we called it as opencv\n",
    "pcakge name: cv2"
   ]
  },
  {
   "cell_type": "code",
   "execution_count": 80,
   "id": "2ea1bd9e",
   "metadata": {},
   "outputs": [],
   "source": [
    "import cv2\n"
   ]
  },
  {
   "cell_type": "markdown",
   "id": "0f0bba11",
   "metadata": {},
   "source": [
    "- whenever module not fund we need to install it\n",
    "- here our package name is cv2\n",
    "- 99% the installation will be like this\n",
    "- pip install\n",
    "- some packages installation name will different and python import name is different\n",
    "- in order to install the packages we need internet\n",
    "- if internet problem occures while installing we will get http error"
   ]
  },
  {
   "cell_type": "code",
   "execution_count": 81,
   "id": "126c0fdc",
   "metadata": {},
   "outputs": [
    {
     "ename": "ModuleNotFoundError",
     "evalue": "No module named 'streamlit'",
     "output_type": "error",
     "traceback": [
      "\u001b[1;31m---------------------------------------------------------------------------\u001b[0m",
      "\u001b[1;31mModuleNotFoundError\u001b[0m                       Traceback (most recent call last)",
      "\u001b[1;32m~\\AppData\\Local\\Temp\\ipykernel_11956\\48860706.py\u001b[0m in \u001b[0;36m<module>\u001b[1;34m\u001b[0m\n\u001b[1;32m----> 1\u001b[1;33m \u001b[1;32mimport\u001b[0m \u001b[0mstreamlit\u001b[0m\u001b[1;33m\u001b[0m\u001b[1;33m\u001b[0m\u001b[0m\n\u001b[0m",
      "\u001b[1;31mModuleNotFoundError\u001b[0m: No module named 'streamlit'"
     ]
    }
   ],
   "source": [
    "import streamlit"
   ]
  },
  {
   "cell_type": "markdown",
   "id": "d1ce1e60",
   "metadata": {},
   "source": [
    "# Note\n"
   ]
  },
  {
   "cell_type": "markdown",
   "id": "d749e615",
   "metadata": {},
   "source": [
    "pip freeze is the command to know the aleady existed packages in our laptop"
   ]
  },
  {
   "cell_type": "code",
   "execution_count": 82,
   "id": "4c22e037",
   "metadata": {},
   "outputs": [],
   "source": [
    "import numpy"
   ]
  },
  {
   "cell_type": "code",
   "execution_count": 83,
   "id": "7b23811d",
   "metadata": {},
   "outputs": [
    {
     "data": {
      "text/plain": [
       "<module 'numpy' from 'C:\\\\ProgramData\\\\Anaconda3\\\\lib\\\\site-packages\\\\numpy\\\\__init__.py'>"
      ]
     },
     "execution_count": 83,
     "metadata": {},
     "output_type": "execute_result"
    }
   ],
   "source": [
    "numpy\n"
   ]
  },
  {
   "cell_type": "markdown",
   "id": "b322f239",
   "metadata": {},
   "source": [
    "- !pip install opencv-python\n",
    "- in jupyter notebook we need add ! mark\n",
    "- in anaconda prompt no need of ! mark\n",
    "- directly name you can provide"
   ]
  },
  {
   "cell_type": "code",
   "execution_count": 84,
   "id": "710a2bb9",
   "metadata": {},
   "outputs": [
    {
     "name": "stdout",
     "output_type": "stream",
     "text": [
      "30\n"
     ]
    }
   ],
   "source": [
    "# hard coding: static\n",
    "# we are fixing the values\n",
    "number1=10\n",
    "number2=20\n",
    "add=number1+number2\n",
    "print(add)"
   ]
  },
  {
   "cell_type": "code",
   "execution_count": 2,
   "id": "a3cd440f",
   "metadata": {},
   "outputs": [
    {
     "name": "stdout",
     "output_type": "stream",
     "text": [
      "enter the number 1:5\n",
      "enter the number 2:4\n",
      "9\n"
     ]
    }
   ],
   "source": [
    "#dynamic\n",
    "number1=eval(input(\"enter the number 1:\"))\n",
    "number2=eval(input(\"enter the number 2:\"))\n",
    "add=number1+number2\n",
    "print(add)"
   ]
  },
  {
   "cell_type": "code",
   "execution_count": 3,
   "id": "fa75808f",
   "metadata": {},
   "outputs": [
    {
     "name": "stdout",
     "output_type": "stream",
     "text": [
      "the addition of 82 and 105 is 187\n"
     ]
    }
   ],
   "source": [
    "#we can take the numbers also randomly\n",
    "import random\n",
    "number1=random.randint(1,100)\n",
    "number2=random.randint(100,200)\n",
    "add=number1+number2\n",
    "print(f\"the addition of {number1} and {number2} is {add}\")"
   ]
  },
  {
   "cell_type": "markdown",
   "id": "d06c74a0",
   "metadata": {},
   "source": [
    "How we pass the numbers\n",
    "- hard codings\n",
    "- using keyboard\n",
    "- using random package , taking numbers randomly"
   ]
  },
  {
   "cell_type": "code",
   "execution_count": 4,
   "id": "ff61e60a",
   "metadata": {},
   "outputs": [
    {
     "name": "stdout",
     "output_type": "stream",
     "text": [
      "30\n",
      "enter the number 1:7\n",
      "enter the number 2:8\n",
      "15\n",
      "the addition of 87 and 141 is 228\n"
     ]
    }
   ],
   "source": [
    "############################################################\n",
    "number1=10\n",
    "number2=20\n",
    "add=number1+number2\n",
    "print(add)\n",
    "#############################################################\n",
    "number1=eval(input(\"enter the number 1:\"))\n",
    "number2=eval(input(\"enter the number 2:\"))\n",
    "add=number1+number2\n",
    "print(add)\n",
    "################################################################\n",
    "import random\n",
    "number1=random.randint(1,100)\n",
    "number2=random.randint(100,200)n1=10\n",
    "n2=eval(input(\"enter the n2:\"))\n",
    "n3=random.randint(1,100)\n",
    "avg=(n1+n2+n3)/3\n",
    "print(f\"The avergae of {n1},{n2} and {n3} is: {avg}\")\n",
    "add=number1+number2\n",
    "print(f\"the addition of {number1} and {number2} is {add}\")\n"
   ]
  },
  {
   "cell_type": "code",
   "execution_count": 5,
   "id": "d2fcdbc3",
   "metadata": {},
   "outputs": [
    {
     "name": "stdout",
     "output_type": "stream",
     "text": [
      "enter the n2:7\n",
      "The avergae of 10,7 and 1 is: 6.0\n"
     ]
    }
   ],
   "source": [
    "n1=10\n",
    "n2=eval(input(\"enter the n2:\"))\n",
    "n3=random.randint(1,100)\n",
    "avg=(n1+n2+n3)/3\n",
    "print(f\"The avergae of {n1},{n2} and {n3} is: {avg}\")"
   ]
  },
  {
   "cell_type": "code",
   "execution_count": 6,
   "id": "3b82dec8",
   "metadata": {},
   "outputs": [],
   "source": [
    "# in the entire notebook \n",
    "# if you import packages\n",
    "# no need to import every time\n",
    "# just verify it the line is executed or not\n",
    "# all the packages we will import at starting only line\n",
    "# assignment-2\n",
    "# assignment-1 qns only but \n",
    "# you need to take random values every\n",
    "# 11 the print statement using time.sleep"
   ]
  },
  {
   "cell_type": "markdown",
   "id": "c36ef1fb",
   "metadata": {},
   "source": [
    "round"
   ]
  },
  {
   "cell_type": "code",
   "execution_count": 7,
   "id": "36e943d4",
   "metadata": {},
   "outputs": [
    {
     "data": {
      "text/plain": [
       "23"
      ]
     },
     "execution_count": 7,
     "metadata": {},
     "output_type": "execute_result"
    }
   ],
   "source": [
    "avg=22.666666666666668\n",
    "round(avg)\n"
   ]
  },
  {
   "cell_type": "code",
   "execution_count": 8,
   "id": "28bc3b0e",
   "metadata": {},
   "outputs": [
    {
     "data": {
      "text/plain": [
       "22.667"
      ]
     },
     "execution_count": 8,
     "metadata": {},
     "output_type": "execute_result"
    }
   ],
   "source": [
    "avg=22.666666666666668\n",
    "round(avg,3)\n"
   ]
  },
  {
   "cell_type": "markdown",
   "id": "66c00a3d",
   "metadata": {},
   "source": [
    "type()\n",
    "input()\n",
    "print()\n",
    "round()"
   ]
  },
  {
   "cell_type": "code",
   "execution_count": 10,
   "id": "dda9886d",
   "metadata": {},
   "outputs": [
    {
     "name": "stdout",
     "output_type": "stream",
     "text": [
      "enter the n2:8\n",
      "The avergae of 10,8 and 5 is: 7.67\n"
     ]
    }
   ],
   "source": [
    "n1=10\n",
    "n2=eval(input(\"enter the n2:\"))\n",
    "n3=random.randint(1,100)\n",
    "avg=(n1+n2+n3)/3\n",
    "avg1=round(avg,2)\n",
    "print(f\"The avergae of {n1},{n2} and {n3} is: {avg1}\")"
   ]
  },
  {
   "cell_type": "code",
   "execution_count": 11,
   "id": "1af8abea",
   "metadata": {},
   "outputs": [
    {
     "name": "stdout",
     "output_type": "stream",
     "text": [
      "enter the n2:6\n",
      "The avergae of 10,6 and 40 is: 7.67\n"
     ]
    }
   ],
   "source": [
    "n1=10\n",
    "n2=eval(input(\"enter the n2:\"))\n",
    "n3=random.randint(1,100)\n",
    "avg=round((n1+n2+n3)/3,2)\n",
    "print(f\"The avergae of {n1},{n2} and {n3} is: {avg1}\")"
   ]
  },
  {
   "cell_type": "code",
   "execution_count": null,
   "id": "625ffaf5",
   "metadata": {},
   "outputs": [],
   "source": []
  }
 ],
 "metadata": {
  "kernelspec": {
   "display_name": "Python 3 (ipykernel)",
   "language": "python",
   "name": "python3"
  },
  "language_info": {
   "codemirror_mode": {
    "name": "ipython",
    "version": 3
   },
   "file_extension": ".py",
   "mimetype": "text/x-python",
   "name": "python",
   "nbconvert_exporter": "python",
   "pygments_lexer": "ipython3",
   "version": "3.9.13"
  }
 },
 "nbformat": 4,
 "nbformat_minor": 5
}

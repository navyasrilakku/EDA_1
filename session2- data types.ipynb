{
 "cells": [
  {
   "cell_type": "code",
   "execution_count": 1,
   "id": "831d5093",
   "metadata": {},
   "outputs": [],
   "source": [
    "true=True\n",
    "#true is variable\n",
    "#True is a Boolean value we are storing in true"
   ]
  },
  {
   "cell_type": "code",
   "execution_count": 2,
   "id": "1cc0d8b4",
   "metadata": {},
   "outputs": [
    {
     "data": {
      "text/plain": [
       "True"
      ]
     },
     "execution_count": 2,
     "metadata": {},
     "output_type": "execute_result"
    }
   ],
   "source": [
    "true"
   ]
  },
  {
   "cell_type": "code",
   "execution_count": null,
   "id": "169a04e5",
   "metadata": {},
   "outputs": [],
   "source": [
    "name 'true' is not defined\n",
    "name 'hyd' is not defined\n",
    "name 'India' is not defined"
   ]
  },
  {
   "cell_type": "code",
   "execution_count": 4,
   "id": "ea505253",
   "metadata": {},
   "outputs": [
    {
     "data": {
      "text/plain": [
       "100"
      ]
     },
     "execution_count": 4,
     "metadata": {},
     "output_type": "execute_result"
    }
   ],
   "source": [
    "n1=100\n",
    "n1"
   ]
  },
  {
   "cell_type": "code",
   "execution_count": 6,
   "id": "dadf3efd",
   "metadata": {},
   "outputs": [
    {
     "data": {
      "text/plain": [
       "bool"
      ]
     },
     "execution_count": 6,
     "metadata": {},
     "output_type": "execute_result"
    }
   ],
   "source": [
    "#15 days our main goal\n",
    "#to avoid the syntax error\n",
    "type(true)"
   ]
  },
  {
   "cell_type": "code",
   "execution_count": null,
   "id": "954fc954",
   "metadata": {},
   "outputs": [],
   "source": [
    "1) mistakes are very very common\n",
    "2) avoid the syntax error\n",
    "3) you will think about logic\n",
    "4) 1 min === 1 hour\n",
    "1st === 10th === 25th === 100th\n"
   ]
  },
  {
   "cell_type": "markdown",
   "id": "c5cd58b4",
   "metadata": {},
   "source": [
    "- integer data type int\n",
    "- float data typ float\n",
    "- string data type str\n",
    "- boolean data type bool"
   ]
  },
  {
   "cell_type": "markdown",
   "id": "bef230f3",
   "metadata": {},
   "source": [
    "# Type casting"
   ]
  },
  {
   "cell_type": "markdown",
   "id": "6d2d5610",
   "metadata": {},
   "source": [
    "- convert one data type to another data tyype is called as type casting\n",
    "- which means we wants to convert\n",
    "- integer type to all other(float, str, bool) data types\n",
    "- str type to all other(int, float, bool) data types\n",
    "- bool type to all other(int, float, str) data types"
   ]
  },
  {
   "cell_type": "markdown",
   "id": "6d7f93b8",
   "metadata": {},
   "source": [
    "# integer to other datatypes"
   ]
  },
  {
   "cell_type": "markdown",
   "id": "2011a584",
   "metadata": {},
   "source": [
    "int - float"
   ]
  },
  {
   "cell_type": "code",
   "execution_count": 7,
   "id": "0393eeef",
   "metadata": {},
   "outputs": [
    {
     "data": {
      "text/plain": [
       "int"
      ]
     },
     "execution_count": 7,
     "metadata": {},
     "output_type": "execute_result"
    }
   ],
   "source": [
    "num=100\n",
    "type(num)"
   ]
  },
  {
   "cell_type": "code",
   "execution_count": 8,
   "id": "48037959",
   "metadata": {},
   "outputs": [
    {
     "data": {
      "text/plain": [
       "float"
      ]
     },
     "execution_count": 8,
     "metadata": {},
     "output_type": "execute_result"
    }
   ],
   "source": [
    "float_num= float(num)\n",
    "type(float_num)"
   ]
  },
  {
   "cell_type": "code",
   "execution_count": 9,
   "id": "0303dffc",
   "metadata": {},
   "outputs": [
    {
     "data": {
      "text/plain": [
       "str"
      ]
     },
     "execution_count": 9,
     "metadata": {},
     "output_type": "execute_result"
    }
   ],
   "source": [
    "str_num=str(num)\n",
    "type(str_num)"
   ]
  },
  {
   "cell_type": "code",
   "execution_count": 10,
   "id": "aa5a0940",
   "metadata": {},
   "outputs": [
    {
     "data": {
      "text/plain": [
       "'100'"
      ]
     },
     "execution_count": 10,
     "metadata": {},
     "output_type": "execute_result"
    }
   ],
   "source": [
    "str_num"
   ]
  },
  {
   "cell_type": "code",
   "execution_count": 11,
   "id": "96a7665f",
   "metadata": {},
   "outputs": [
    {
     "data": {
      "text/plain": [
       "True"
      ]
     },
     "execution_count": 11,
     "metadata": {},
     "output_type": "execute_result"
    }
   ],
   "source": [
    "bool(num)"
   ]
  },
  {
   "cell_type": "code",
   "execution_count": 12,
   "id": "8233890d",
   "metadata": {},
   "outputs": [
    {
     "data": {
      "text/plain": [
       "(200.0, '200', True)"
      ]
     },
     "execution_count": 12,
     "metadata": {},
     "output_type": "execute_result"
    }
   ],
   "source": [
    "float(200), str(200), bool(200)"
   ]
  },
  {
   "cell_type": "code",
   "execution_count": 13,
   "id": "07452d10",
   "metadata": {},
   "outputs": [
    {
     "data": {
      "text/plain": [
       "(-200.0, '-200', True)"
      ]
     },
     "execution_count": 13,
     "metadata": {},
     "output_type": "execute_result"
    }
   ],
   "source": [
    "float(-200), str(-200), bool(-200)"
   ]
  },
  {
   "cell_type": "code",
   "execution_count": 14,
   "id": "1d5f5769",
   "metadata": {},
   "outputs": [
    {
     "data": {
      "text/plain": [
       "False"
      ]
     },
     "execution_count": 14,
     "metadata": {},
     "output_type": "execute_result"
    }
   ],
   "source": [
    "# when integer of boolean coversation become false\n",
    "bool(0)"
   ]
  },
  {
   "cell_type": "markdown",
   "id": "7254392c",
   "metadata": {},
   "source": [
    "# NOTE"
   ]
  },
  {
   "cell_type": "markdown",
   "id": "3fc44b19",
   "metadata": {},
   "source": [
    "- integer=0 then only boolean conversion becomes false\n",
    "- otherwise for any positive number or any negative number it becomes True"
   ]
  },
  {
   "cell_type": "markdown",
   "id": "e4e6448b",
   "metadata": {},
   "source": [
    "# Float to another data type"
   ]
  },
  {
   "cell_type": "code",
   "execution_count": 15,
   "id": "f8bc5d98",
   "metadata": {},
   "outputs": [
    {
     "data": {
      "text/plain": [
       "True"
      ]
     },
     "execution_count": 15,
     "metadata": {},
     "output_type": "execute_result"
    }
   ],
   "source": [
    "int(200.5) #200\n",
    "str(200.5) #'200.5'\n",
    "bool(200.5) #True"
   ]
  },
  {
   "cell_type": "code",
   "execution_count": 16,
   "id": "1167c64e",
   "metadata": {},
   "outputs": [
    {
     "data": {
      "text/plain": [
       "(200, '200.5', True)"
      ]
     },
     "execution_count": 16,
     "metadata": {},
     "output_type": "execute_result"
    }
   ],
   "source": [
    "int(200.5), str(200.5), bool(200.5)"
   ]
  },
  {
   "cell_type": "code",
   "execution_count": 17,
   "id": "c6df9486",
   "metadata": {},
   "outputs": [
    {
     "data": {
      "text/plain": [
       "(200, '200.5', False)"
      ]
     },
     "execution_count": 17,
     "metadata": {},
     "output_type": "execute_result"
    }
   ],
   "source": [
    "int(200.5), str(200.5), bool(0.0)"
   ]
  },
  {
   "cell_type": "markdown",
   "id": "dd5e4aa3",
   "metadata": {},
   "source": [
    "# String to another data types"
   ]
  },
  {
   "cell_type": "code",
   "execution_count": 2,
   "id": "59f6d620",
   "metadata": {},
   "outputs": [],
   "source": [
    "#case-1\n",
    "str= 'apple'\n",
    "#case-2\n",
    "str1='10'\n",
    "#case3\n",
    "str2='10.5'"
   ]
  },
  {
   "cell_type": "code",
   "execution_count": 19,
   "id": "f38a6e04",
   "metadata": {},
   "outputs": [
    {
     "ename": "ValueError",
     "evalue": "invalid literal for int() with base 10: 'apple'",
     "output_type": "error",
     "traceback": [
      "\u001b[1;31m---------------------------------------------------------------------------\u001b[0m",
      "\u001b[1;31mValueError\u001b[0m                                Traceback (most recent call last)",
      "\u001b[1;32m~\\AppData\\Local\\Temp\\ipykernel_12912\\3605760924.py\u001b[0m in \u001b[0;36m<module>\u001b[1;34m\u001b[0m\n\u001b[1;32m----> 1\u001b[1;33m \u001b[0mint\u001b[0m\u001b[1;33m(\u001b[0m\u001b[1;34m'apple'\u001b[0m\u001b[1;33m)\u001b[0m \u001b[1;31m#error\u001b[0m\u001b[1;33m\u001b[0m\u001b[1;33m\u001b[0m\u001b[0m\n\u001b[0m\u001b[0;32m      2\u001b[0m \u001b[0mfloat\u001b[0m\u001b[1;33m(\u001b[0m\u001b[1;34m'apple'\u001b[0m\u001b[1;33m)\u001b[0m \u001b[1;31m#error\u001b[0m\u001b[1;33m\u001b[0m\u001b[1;33m\u001b[0m\u001b[0m\n\u001b[0;32m      3\u001b[0m \u001b[0mbool\u001b[0m\u001b[1;33m(\u001b[0m\u001b[1;34m'apple'\u001b[0m\u001b[1;33m)\u001b[0m \u001b[1;31m#error\u001b[0m\u001b[1;33m\u001b[0m\u001b[1;33m\u001b[0m\u001b[0m\n",
      "\u001b[1;31mValueError\u001b[0m: invalid literal for int() with base 10: 'apple'"
     ]
    }
   ],
   "source": [
    "int('apple') #error\n",
    "float('apple') #error\n",
    "bool('apple') #error"
   ]
  },
  {
   "cell_type": "code",
   "execution_count": 20,
   "id": "c6ce4263",
   "metadata": {},
   "outputs": [
    {
     "data": {
      "text/plain": [
       "'10'"
      ]
     },
     "execution_count": 20,
     "metadata": {},
     "output_type": "execute_result"
    }
   ],
   "source": [
    "int('10')#10\n",
    "float('10')#10.0\n",
    "str('10')#True"
   ]
  },
  {
   "cell_type": "code",
   "execution_count": 1,
   "id": "6c99428d",
   "metadata": {},
   "outputs": [
    {
     "ename": "ValueError",
     "evalue": "invalid literal for int() with base 10: '10.5'",
     "output_type": "error",
     "traceback": [
      "\u001b[1;31m---------------------------------------------------------------------------\u001b[0m",
      "\u001b[1;31mValueError\u001b[0m                                Traceback (most recent call last)",
      "\u001b[1;32m~\\AppData\\Local\\Temp\\ipykernel_7484\\2330080098.py\u001b[0m in \u001b[0;36m<module>\u001b[1;34m\u001b[0m\n\u001b[1;32m----> 1\u001b[1;33m \u001b[0mint\u001b[0m\u001b[1;33m(\u001b[0m\u001b[1;34m'10.5'\u001b[0m\u001b[1;33m)\u001b[0m\u001b[1;31m#error\u001b[0m\u001b[1;33m\u001b[0m\u001b[1;33m\u001b[0m\u001b[0m\n\u001b[0m\u001b[0;32m      2\u001b[0m \u001b[0mfloat\u001b[0m\u001b[1;33m(\u001b[0m\u001b[1;34m'10.5'\u001b[0m\u001b[1;33m)\u001b[0m\u001b[1;31m#10.5\u001b[0m\u001b[1;33m\u001b[0m\u001b[1;33m\u001b[0m\u001b[0m\n\u001b[0;32m      3\u001b[0m \u001b[0mstr\u001b[0m\u001b[1;33m(\u001b[0m\u001b[1;34m'10.5'\u001b[0m\u001b[1;33m)\u001b[0m\u001b[1;31m#True\u001b[0m\u001b[1;33m\u001b[0m\u001b[1;33m\u001b[0m\u001b[0m\n",
      "\u001b[1;31mValueError\u001b[0m: invalid literal for int() with base 10: '10.5'"
     ]
    }
   ],
   "source": [
    "int('10.5')#error\n",
    "float('10.5')#10.5\n",
    "str('10.5')#True"
   ]
  },
  {
   "cell_type": "code",
   "execution_count": null,
   "id": "d922cacf",
   "metadata": {},
   "outputs": [],
   "source": [
    "int('10')#pass\n",
    "float('10.5')#pass\n",
    "int('10.5')#fail\n",
    "float('10')#pass"
   ]
  },
  {
   "cell_type": "markdown",
   "id": "bf225855",
   "metadata": {},
   "source": [
    "- float is the boss\n",
    "- float of any value either it is integer in strings format\n",
    "- or float in strings format will works\n",
    "- but integer will worksonly for integer in strings format\n",
    "- integer type casting will fail for float in strings format"
   ]
  },
  {
   "cell_type": "code",
   "execution_count": 21,
   "id": "964ac71d",
   "metadata": {},
   "outputs": [
    {
     "data": {
      "text/plain": [
       "False"
      ]
     },
     "execution_count": 21,
     "metadata": {},
     "output_type": "execute_result"
    }
   ],
   "source": [
    "bool('')"
   ]
  },
  {
   "cell_type": "code",
   "execution_count": 22,
   "id": "ef14c0ed",
   "metadata": {},
   "outputs": [
    {
     "data": {
      "text/plain": [
       "False"
      ]
     },
     "execution_count": 22,
     "metadata": {},
     "output_type": "execute_result"
    }
   ],
   "source": [
    "bool(0)"
   ]
  },
  {
   "cell_type": "markdown",
   "id": "10611c81",
   "metadata": {},
   "source": [
    "- empty string of boolean gives false\n",
    "- false means nothing either zero or empty string"
   ]
  },
  {
   "cell_type": "code",
   "execution_count": null,
   "id": "addcd93e",
   "metadata": {},
   "outputs": [],
   "source": [
    "#boolean to other type\n",
    "True ==== int float str"
   ]
  },
  {
   "cell_type": "code",
   "execution_count": 23,
   "id": "66b70857",
   "metadata": {},
   "outputs": [
    {
     "data": {
      "text/plain": [
       "1"
      ]
     },
     "execution_count": 23,
     "metadata": {},
     "output_type": "execute_result"
    }
   ],
   "source": [
    "int(True)"
   ]
  },
  {
   "cell_type": "code",
   "execution_count": 24,
   "id": "7b98413d",
   "metadata": {},
   "outputs": [
    {
     "data": {
      "text/plain": [
       "1.0"
      ]
     },
     "execution_count": 24,
     "metadata": {},
     "output_type": "execute_result"
    }
   ],
   "source": [
    "float(True)"
   ]
  },
  {
   "cell_type": "code",
   "execution_count": 25,
   "id": "7ece46b0",
   "metadata": {},
   "outputs": [
    {
     "data": {
      "text/plain": [
       "'True'"
      ]
     },
     "execution_count": 25,
     "metadata": {},
     "output_type": "execute_result"
    }
   ],
   "source": [
    "str(True)"
   ]
  },
  {
   "cell_type": "code",
   "execution_count": 26,
   "id": "89dfd562",
   "metadata": {},
   "outputs": [
    {
     "data": {
      "text/plain": [
       "'False'"
      ]
     },
     "execution_count": 26,
     "metadata": {},
     "output_type": "execute_result"
    }
   ],
   "source": [
    "int(False)\n",
    "float(False)\n",
    "str(False)"
   ]
  },
  {
   "cell_type": "code",
   "execution_count": 27,
   "id": "d89c6d64",
   "metadata": {},
   "outputs": [
    {
     "data": {
      "text/plain": [
       "True"
      ]
     },
     "execution_count": 27,
     "metadata": {},
     "output_type": "execute_result"
    }
   ],
   "source": [
    "###########################  int to other ########################\n",
    "float(100)\n",
    "str(100)\n",
    "bool(100)"
   ]
  },
  {
   "cell_type": "code",
   "execution_count": null,
   "id": "252ae088",
   "metadata": {},
   "outputs": [],
   "source": [
    "######################  float to other #######################\n",
    "int(100.5)\n",
    "str(100.5)\n",
    "bool(100.5)\n",
    "bool(0)\n",
    "##########################   str to other ##################\n",
    "int('apple')#error\n",
    "float('apple')#error\n",
    "bool('apple')#error\n",
    "\n",
    "int('10')#10\n",
    "float('10')#10.0\n",
    "bool('10')#True\n",
    "\n",
    "int('10.5')#error\n",
    "float('10.5')#10.5\n",
    "bool('10.5')#True\n",
    "bool('')\n",
    "#############################   bool to other   ###############################3\n",
    "int(False)\n",
    "float(False)\n",
    "str(False)\n",
    "\n",
    "\n",
    "int(True)\n",
    "float(True)\n",
    "str(True)"
   ]
  }
 ],
 "metadata": {
  "kernelspec": {
   "display_name": "Python 3 (ipykernel)",
   "language": "python",
   "name": "python3"
  },
  "language_info": {
   "codemirror_mode": {
    "name": "ipython",
    "version": 3
   },
   "file_extension": ".py",
   "mimetype": "text/x-python",
   "name": "python",
   "nbconvert_exporter": "python",
   "pygments_lexer": "ipython3",
   "version": "3.9.13"
  }
 },
 "nbformat": 4,
 "nbformat_minor": 5
}
